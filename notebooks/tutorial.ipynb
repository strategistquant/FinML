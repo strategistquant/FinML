{
 "cells": [
  {
   "cell_type": "markdown",
   "metadata": {},
   "source": [
    "# Tutorial for FinML repository"
   ]
  },
  {
   "cell_type": "markdown",
   "metadata": {},
   "source": [
    "This notebook provides a series of simple examples to utilze our package \n",
    "\n",
    "Our package is based on <b>python 3.6</b>"
   ]
  },
  {
   "cell_type": "markdown",
   "metadata": {},
   "source": [
    "## Prerequisite"
   ]
  },
  {
   "cell_type": "code",
   "execution_count": null,
   "metadata": {},
   "outputs": [],
   "source": [
    "# Clone the repository\n",
    "!git clone https://github.com/yanghoonkim/FinML.git\n",
    "\n",
    "# Get into the base directory\n",
    "%cd FinML\n",
    "\n",
    "# Install prerequisite packages\n",
    "!pip3 install -r requirements.txt"
   ]
  },
  {
   "cell_type": "markdown",
   "metadata": {},
   "source": [
    "## Korean Stock Market"
   ]
  },
  {
   "cell_type": "code",
   "execution_count": null,
   "metadata": {},
   "outputs": [],
   "source": [
    "# Import basic packages\n",
    "import os\n",
    "from datetime import datetime\n",
    "\n",
    "# Import a module for data retrieval\n",
    "from finml.data_reader import GetInitData"
   ]
  },
  {
   "cell_type": "markdown",
   "metadata": {},
   "source": [
    "###  Get initial data\n",
    "<p>- For the first time, the whole data retrieval process will take about an hour</p>\n",
    "<p>- 🛑Warning🛑 Data retrieval process is 🆂🆄🅿🅴🆁 🆂🅻🅾🆆 in Colab </p>\n",
    "<p>- This process will download the market and fundamental data to data/</p>\n",
    "<p>- These data can be used for portfolio optimization</p>"
   ]
  },
  {
   "cell_type": "code",
   "execution_count": null,
   "metadata": {},
   "outputs": [],
   "source": [
    "kor_market = GetInitData(source='krx', data_path = 'data')\n",
    "kor_market.get_tickers() # Get a list of stock tickers\n",
    "kor_market.get_prices_and_volumes(start=datetime(2010,1,1), # Get price information (for all stocks)\n",
    "                      end=datetime.now()) \n",
    "kor_market.get_fs() # Get financial statements (for all stocks)\n",
    "kor_market.fs_cleansing(standard='005930') # Filter elements of financial statements with the given standard\n",
    "kor_market.calculate_indicators() # Calculate investment indicators"
   ]
  },
  {
   "cell_type": "markdown",
   "metadata": {},
   "source": [
    "### Portfolio selection\n",
    "<p>- We provide several factors for portfolio selection (Still to be updated) </p>\n",
    "<p>- Here we provide <a href=\"https://en.wikipedia.org/wiki/Low-volatility_investing\">low-volatility portfolio</a> as a single factor for portfolio selection </p>"
   ]
  },
  {
   "cell_type": "code",
   "execution_count": null,
   "metadata": {},
   "outputs": [],
   "source": [
    "from finml.portfolio_selection.single_factor import lowVol\n",
    "\n",
    "stock_list = lowVol(\n",
    "        market=kor_market,\n",
    "        last_nyears=1,\n",
    "        num_pf=30,\n",
    "        interval='d')"
   ]
  },
  {
   "cell_type": "markdown",
   "metadata": {},
   "source": [
    "### Portfolio optimization\n",
    "<p>- Here we show <a href=\"https://www.investopedia.com/terms/m/meanvariance-analysis.asp\">mean-variance analysis</a> for the selected portfolio </p>"
   ]
  },
  {
   "cell_type": "code",
   "execution_count": null,
   "metadata": {},
   "outputs": [],
   "source": [
    "from finml.portfolio_optimization import SimpleMeanVariance\n",
    "\n",
    "start, end = kor_market.convert_to_date(last_nyears=1)\n",
    "\n",
    "# Calculate mean and covariance for returns\n",
    "mean, cov = kor_market.get_mean_cov(\n",
    "        interval='d',\n",
    "        start=start,\n",
    "        end=end,\n",
    "        subset=stock_list)\n",
    "\n",
    "# Define an instance for mean-variance analysis\n",
    "SMV = SimpleMeanVariance(mean, cov)\n",
    "\n",
    "if not os.path.exists('data/plot'):\n",
    "    %mkdir data/plot\n",
    "\n",
    "SMV.plot(show=True, save_path='data/plot/simple_mean_variance.jpeg')"
   ]
  },
  {
   "cell_type": "markdown",
   "metadata": {},
   "source": [
    "### <a href=\"https://www.investopedia.com/terms/c/capm.asp#:~:text=The%20Capital%20Asset%20Pricing%20Model%20(CAPM)%20describes%20the%20relationship%20between,assets%20and%20cost%20of%20capital.\">CAPM (Captial Asset Pricing Model)</a>"
   ]
  },
  {
   "cell_type": "code",
   "execution_count": null,
   "metadata": {
    "scrolled": true
   },
   "outputs": [],
   "source": [
    "from finml.asset_pricing import CAPM\n",
    "\n",
    "returns, betas, alphas = CAPM(\n",
    "        market = kor_market, \n",
    "        stock_tickers = stock_list, \n",
    "        index_ticker = 'KPI200', \n",
    "        risk_free = 0, \n",
    "        start = start,\n",
    "        end = end)"
   ]
  },
  {
   "cell_type": "markdown",
   "metadata": {},
   "source": [
    "### <a href=\"https://www.investopedia.com/terms/f/famaandfrenchthreefactormodel.asp\">Fama-French Three Factor Model</a>"
   ]
  },
  {
   "cell_type": "code",
   "execution_count": null,
   "metadata": {},
   "outputs": [],
   "source": [
    "from finml.asset_pricing import FamaFrench3\n",
    "\n",
    "FamaFrench3(\n",
    "        market=kor_market,\n",
    "        ticker='005930',\n",
    "        tools='statsmodels',\n",
    "        plot_return=True)"
   ]
  },
  {
   "cell_type": "code",
   "execution_count": null,
   "metadata": {},
   "outputs": [],
   "source": []
  }
 ],
 "metadata": {
  "kernelspec": {
   "display_name": "py36",
   "language": "python",
   "name": "py36"
  },
  "language_info": {
   "codemirror_mode": {
    "name": "ipython",
    "version": 3
   },
   "file_extension": ".py",
   "mimetype": "text/x-python",
   "name": "python",
   "nbconvert_exporter": "python",
   "pygments_lexer": "ipython3",
   "version": "3.6.10"
  }
 },
 "nbformat": 4,
 "nbformat_minor": 2
}
